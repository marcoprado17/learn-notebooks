{
 "metadata": {
  "language_info": {
   "codemirror_mode": {
    "name": "ipython",
    "version": 3
   },
   "file_extension": ".py",
   "mimetype": "text/x-python",
   "name": "python",
   "nbconvert_exporter": "python",
   "pygments_lexer": "ipython3",
   "version": "3.7.6-final"
  },
  "orig_nbformat": 2,
  "kernelspec": {
   "name": "python3",
   "display_name": "Python 3"
  }
 },
 "nbformat": 4,
 "nbformat_minor": 2,
 "cells": [
  {
   "cell_type": "markdown",
   "metadata": {},
   "source": [
    "# Mostly Adequate Guide to Functional Programming\n",
    "\n",
    "## Chapter 01: What Ever Are We Doing?\n",
    "\n",
    "Para alguns problemas específicos, uma abordagem functional pode resultar em um código menor e mais legível.\n",
    "\n",
    "### Exemplo de um código OO que representa a junção (conjoin) e prociação (breed) de gaivotads (flock):\n",
    "\n",
    "```js\n",
    "class Flock {\n",
    "    constructor(n) {\n",
    "        this.seagulls = n;\n",
    "    }\n",
    "\n",
    "    conjoin(other) {\n",
    "        this.seagulls += other.seagulls;\n",
    "        return this;\n",
    "    }\n",
    "\n",
    "    breed(other) {\n",
    "        this.seagulls = this.seagulls * other.seagulls;\n",
    "        return this;\n",
    "    }\n",
    "}\n",
    "\n",
    "const flockA = new Flock(4);\n",
    "const flockB = new Flock(2);\n",
    "const flockC = new Flock(0);\n",
    "const result = flockA\n",
    "    .conjoin(flockC)\n",
    "    .breed(flockB)\n",
    "    .conjoin(flockA.breed(flockB))\n",
    "    .seagulls;\n",
    "```\n",
    "\n",
    "### Exemplo da mesma aplicação com programação funcional:\n",
    "\n",
    "```js\n",
    "const conjoin = (flockX, flockY) => flockX + flockY;\n",
    "const breed = (flockX, flockY) => flockX * flockY;\n",
    "const flockA = 4;\n",
    "const flockB = 2;\n",
    "const flockC = 0;\n",
    "const result = \n",
    "    conjoin(breed(flockB, conjoin(flockA, flockC)), breed(flockA, flockB));\n",
    "```"
   ]
  },
  {
   "cell_type": "markdown",
   "metadata": {},
   "source": [
    "## Chapter 02: First Class Functions\n",
    "\n",
    "Linguagens com função de primeira classe são linguagens na qual as funções possuem as mesmas propriedades de uma classe normal. Podem ser passadas para outras funções como parâmetros, podem ser o retorno da chamada de uma função, podem ser armazenadas em variáveis, arrays etc.\n",
    "\n",
    "Uma lista com o suporte detalhado para funcções de primeira classe por ser encontrado em: [https://en.wikipedia.org/wiki/First-class_function#Language_support](https://en.wikipedia.org/wiki/First-class_function#Language_support)"
   ]
  },
  {
   "cell_type": "code",
   "execution_count": null,
   "metadata": {},
   "outputs": [],
   "source": []
  },
  {
   "cell_type": "code",
   "execution_count": null,
   "metadata": {},
   "outputs": [],
   "source": []
  }
 ]
}