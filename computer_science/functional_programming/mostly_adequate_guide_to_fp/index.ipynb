{
 "metadata": {
  "language_info": {
   "codemirror_mode": {
    "name": "ipython",
    "version": 3
   },
   "file_extension": ".py",
   "mimetype": "text/x-python",
   "name": "python",
   "nbconvert_exporter": "python",
   "pygments_lexer": "ipython3",
   "version": "3.7.6-final"
  },
  "orig_nbformat": 2,
  "kernelspec": {
   "name": "python3",
   "display_name": "Python 3"
  }
 },
 "nbformat": 4,
 "nbformat_minor": 2,
 "cells": [
  {
   "cell_type": "markdown",
   "metadata": {},
   "source": [
    "# Mostly Adequate Guide to Functional Programming\n",
    "\n",
    "## Chapter 01: What Ever Are We Doing?\n",
    "\n",
    "Para alguns problemas específicos, uma abordagem functional pode resultar em um código menor e mais legível.\n",
    "\n",
    "### Exemplo de um código OO que representa a junção (conjoin) e prociação (breed) de gaivotads (flock):\n",
    "\n",
    "```js\n",
    "class Flock {\n",
    "    constructor(n) {\n",
    "        this.seagulls = n;\n",
    "    }\n",
    "\n",
    "    conjoin(other) {\n",
    "        this.seagulls += other.seagulls;\n",
    "        return this;\n",
    "    }\n",
    "\n",
    "    breed(other) {\n",
    "        this.seagulls = this.seagulls * other.seagulls;\n",
    "        return this;\n",
    "    }\n",
    "}\n",
    "\n",
    "const flockA = new Flock(4);\n",
    "const flockB = new Flock(2);\n",
    "const flockC = new Flock(0);\n",
    "const result = flockA\n",
    "    .conjoin(flockC)\n",
    "    .breed(flockB)\n",
    "    .conjoin(flockA.breed(flockB))\n",
    "    .seagulls;\n",
    "```\n",
    "\n",
    "```js\n",
    "```"
   ]
  },
  {
   "cell_type": "code",
   "execution_count": null,
   "metadata": {},
   "outputs": [],
   "source": []
  },
  {
   "cell_type": "code",
   "execution_count": null,
   "metadata": {},
   "outputs": [],
   "source": []
  }
 ]
}