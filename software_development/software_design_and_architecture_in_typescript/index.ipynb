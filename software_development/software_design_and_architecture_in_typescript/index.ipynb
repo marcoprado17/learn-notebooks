{
 "metadata": {
  "language_info": {
   "codemirror_mode": {
    "name": "ipython",
    "version": 3
   },
   "file_extension": ".py",
   "mimetype": "text/x-python",
   "name": "python",
   "nbconvert_exporter": "python",
   "pygments_lexer": "ipython3",
   "version": 3
  },
  "orig_nbformat": 2
 },
 "nbformat": 4,
 "nbformat_minor": 2,
 "cells": [
  {
   "cell_type": "markdown",
   "metadata": {},
   "source": [
    "# Software Design and Architecture with Typescript by Khalil Stemmler\n",
    "\n",
    "[https://wiki.solidbook.io/](https://wiki.solidbook.io/)"
   ]
  },
  {
   "cell_type": "markdown",
   "metadata": {},
   "source": [
    "## Introduction\n",
    "\n",
    "### Developer Roadmap\n",
    "\n",
    "[https://github.com/kamranahmedse/developer-roadmap](https://github.com/kamranahmedse/developer-roadmap)\n",
    "\n",
    "Khalil foca em seu livro em todo o conteúdo do backend e devops.\n",
    "\n",
    "### Goal of Software\n",
    "\n",
    "The goal of software is to continually produce something that satisfies the needs of its users while minimizing the effort it takes to do so.\n",
    "\n",
    "### List of System Quality Attributes\n",
    "\n",
    "[https://en.wikipedia.org/wiki/List_of_system_quality_attributes](https://en.wikipedia.org/wiki/List_of_system_quality_attributes)\n",
    "\n",
    "### Software Architecture and Software Design\n",
    "\n",
    "Architecture is about the important stuff. Whatever that is. — Martin Fowler\n",
    "\n",
    "Software architecture & design is the structure of a system, the elements it contains, and the relationship between those elements.\n",
    "\n",
    "Both levels of software design (high and low) are essential. They form a symbiotic relationship with each other that when in sync, \n",
    "can lead to high-quality software that is easy to maintain and change.\n",
    "That means everyone on the team holds the shared responsibility of understanding the high-level architecture and how the low-level \n",
    "details support it.\n",
    "\n",
    "#### Stack and Roadmap\n",
    "\n",
    "<div>\n",
    "<img src=\"./assets/software_design_and_architecture_stack.png\" width=\"600\"/>\n",
    "</div>\n",
    "\n",
    "More details on [https://khalilstemmler.com/articles/software-design-architecture/full-stack-software-design/#The-map](https://khalilstemmler.com/articles/software-design-architecture/full-stack-software-design/#The-map).\n",
    "\n",
    "##### Step 1: Clean Code\n",
    "\n",
    "<div>\n",
    "<img src=\"./assets/step_1_clean_code.png\" width=\"600\"/>\n",
    "</div>\n",
    "\n",
    "So essentially, the best word that describes this step of your journey? Empathy.\n",
    "\n",
    "##### Step 2: Programming paradigms\n",
    "\n",
    "<div>\n",
    "<img src=\"./assets/step_2_programming_paradigms.png\" width=\"400\"/>\n",
    "</div>\n",
    "\n",
    "##### Step 3: Object Oriented Programming and Domain Modeling\n",
    "\n",
    "<div>\n",
    "<img src=\"./assets/step_3_oo_and_dm.png\" width=\"400\"/>\n",
    "</div>\n",
    "\n",
    "\n",
    "\n",
    "\n"
   ]
  },
  {
   "cell_type": "markdown",
   "metadata": {},
   "source": [
    "##### Step 4: Design Principles\n",
    "\n",
    "<div>\n",
    "<img src=\"./assets/step_4_design_principles.png\" width=\"600\"/>\n",
    "</div>"
   ]
  },
  {
   "cell_type": "markdown",
   "metadata": {},
   "source": [
    "##### Step 5: Design Patterns\n",
    "\n",
    "<div>\n",
    "<img src=\"./assets/step_5_design_patterns.png\" width=\"600\"/>\n",
    "</div>"
   ]
  },
  {
   "cell_type": "markdown",
   "metadata": {},
   "source": [
    "##### Step 6: Architectural Principles\n",
    "\n",
    "<div>\n",
    "<img src=\"./assets/step_6_architectural_principles.png\" width=\"600\"/>\n",
    "</div>"
   ]
  }
 ]
}