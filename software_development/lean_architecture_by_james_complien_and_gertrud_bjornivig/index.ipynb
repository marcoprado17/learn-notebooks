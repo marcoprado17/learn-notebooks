{
 "metadata": {
  "language_info": {
   "codemirror_mode": {
    "name": "ipython",
    "version": 3
   },
   "file_extension": ".py",
   "mimetype": "text/x-python",
   "name": "python",
   "nbconvert_exporter": "python",
   "pygments_lexer": "ipython3",
   "version": "3.7.6-final"
  },
  "orig_nbformat": 2,
  "kernelspec": {
   "name": "python3",
   "display_name": "Python 3"
  }
 },
 "nbformat": 4,
 "nbformat_minor": 2,
 "cells": [
  {
   "cell_type": "markdown",
   "metadata": {
    "tags": []
   },
   "source": [
    "# Lean Architecture: For Agile Software Development by James Coplien and Gertrud Bjornivig"
   ]
  },
  {
   "cell_type": "markdown",
   "metadata": {},
   "source": [
    "## Introduction\n",
    "\n",
    "Esse capítulo foca em explicar a filosofia e a forma como o autor irá expor as ideias nos capítulos seguintes.\n",
    "\n",
    "### The touchstones: Lean and Agile\n",
    "\n",
    "* Lean e Agile estão em voga atualmente, lean remete ao minimalismo (mas não somente ao minimalismo). Lean possui raizes no Japão, mais especificamente na montadora Toyota;\n",
    "* No Lean, o minimalismo é consequência de uma abordagem na qual a visão de criação de valor PARA TODOS OS STAKEHOLDERS (empregado, chefe, cliente, parceiro etc) permeia a todo tempo, em todas as dimensões, Lean não é apenas suas particas (just in time, end to end). No manifesto Agile, a enfase é mais o cliente;\n",
    "* Lean e agile não sobre hard work ou smart work, mas sim sobre FOCO e DISCIPLINA no cumprimento de ideis simples;\n",
    "* O livro foca em aplicar o estilo Lean e Agile para o a arquitetura de software;\n",
    "* Arquitetura de software por ser definida como os fundamentos que guiam a organização dos componentes do sistema, a relações destes, o ambiente e os principios que guiam seu desenvolmento e evolução;\n",
    "* As práticas do Lean são importantes, mas no seu core está a participação de todos do time, desde o início do projeto. Isso pode ser meio caótico no inicio, mas segundo o autor vale a pena;\n",
    "* Arquitetura pode paracer dificil, mas não é, basta reunir os especialistas em uma sala. Individuos vem primeiro, interações em segundo plano;\n",
    "* O Lean contribui com o planejamento com TODOS os stakeholders com foco na criação de valor e o Agile contribui para a cultura do feedback;\n",
    "* Como o Lean foca na criação de valor para o cliente, ele contribui para a redução de software que não entrega valor para o cliente. 70% do software contruído não é utilizado pelo cliente;\n",
    "* Uma Arquitetura Lean é capaz de produzir código que entregue valor para o cliente e permitir adições futuras sem q para isso tenhamos que criar código de ante-mão. Foca no que é importante agora, sem prejudicar o longo termo;\n",
    "* Um arquitetura Lean permite que os principios agéis ocorram com sucesso, é a base para o desenvolvimento ágil, bem sucedido:\n",
    "    * All hands on desk => Individuals and interactions over processes and tools;\n",
    "    * Value stream without many processes and tools => Customer engagement;\n",
    "    * Software that reflect the end user mental model => Working software;\n",
    "    * Software that captures domain form => Software that can respond to change.\n",
    "\n",
    "\n",
    "\n"
   ]
  },
  {
   "cell_type": "markdown",
   "metadata": {},
   "source": [
    "### Lean Architecture and Agile Feature Development\n",
    "\n",
    "* A Arquitetura Lean une a visão da Toyota à visão Agile,o Lean contribui para a form de como o sistema será desenvolvido focando na experiência e no dominio e a perpectiva Agile foca na resposta e planejamento às mudanças;\n",
    "* Diferencas entre a Arquitetura Lean (a esquerda) e a arquitetura clássica (a direita) e obserações a respeito dessas diferenças:\n",
    "    * Adia engenharia x Inclui engenharia. No Lean, a forma deve vir da UX, eventualmente as leis que governam a engenharia virão, mas não devem ser as primeiras; \n",
    "    * Espaço para mudanças x Limita mudanças bruscas. O Lean foca na forma do dominio, forma e funcionalidade sem prematura implementação, de forma que não ocorrem mudanças, apenas extensões;\n",
    "    * Adia implementações (entrega API's e descrição das relações) x Inclui muita implementação ou apenas documentação. Não precisamos implementar ou documentar tudo logo de cara para buscar implementação de padrões, o Lean valoriza os padrões, mas esse não precisam ser estabelecidos na implementação, mas nas API's, na forma, nos protocolos etc;\n",
    "    * Doumentação leve x Documentação focada em descrever a implementação. No Lean, muitas decisões podem ser tomadas no código, ao focar nas pessoas, muitas das decisões podem ser estabelecidas no face to face. É claro q no Lean, podem existir documentações se necessário;\n",
    "    * Pessoas x Ferramentas e Notações. O Lean valoriza mais as pessoas e seus experties em suas respectivas àreas;\n",
    "    * Planejmanento conjunto e cooperação x Planejamento especializado e controle. Tanto no Lean qto no clássico possuem visão de longo prazo, mas o Lean não segue o planejamento a risca, ele foca no que é importante agora, seja fazer a etrega para a próxima semana, seja fazer o planejamento de longo prazo;\n",
    "    * Modelagem com base no usuário final x Acoplamento técnico e coesão;"
   ]
  },
  {
   "cell_type": "markdown",
   "metadata": {},
   "source": [
    "### Agile Production\n",
    "\n",
    "Um design Lean leva a uma arquitetura que te permite ser mais Agile segundo o manifesto:\n",
    "\n",
    "> We are uncovering better ways of developing\n",
    "> software by doing it and helping others do it.\n",
    "> Through this work we have come to value:\n",
    "\n",
    "> * *Individuals and interactions* over processes and tools\n",
    "> * *Working software* over comprehensive documentation\n",
    "> * *Customer collaboration* over contract negotiation\n",
    "> * *Responding to change* over following a plan\n",
    "\n",
    "> That is, while there is value in the items on\n",
    "> the right, we value the items on the left more.\n",
    "\n",
    "#### Agile Build on Lean\n",
    "\n",
    "* Agile se prepara para mudanças na forma como o sistema deve se comportar, o Lean abraça a mudança a partir da fato que o Lean se baseia em uma corrente continua de adição de valores pelos stakeholders, o que fez sentido no passado, não necessáriamente faz sentido agora;\n",
    "* Agile foca em código funcionando, o Lean supoe que a melhor forma de expressar o design e a modelagem mental do usuário é por meio do código. É claro que o Lean concorda que documentações leves podem eventualmente ser necessárias para os stakeholders não programadores;\n",
    "* Arquitetura classíca foca naquilo q não muda, Agile foca naquilo que é mais provável de mudar (TOAGREE). A arquitetura Lean é um intermediário entre essas duas formas;\n",
    "* Lean foca na cadeia de valores começando a partir do usuário final, o que está de acordo com a abordagem Agile focada em pessoas e iterações com foco no cliente;\n",
    "* A redução de desperdicio com o Lean está de acordo com a redução de documentação desnecessária do Agile;\n",
    "* Lean e Agile não são conceitos opostos, são perspectivas diferentes para construção de sistemas com foco em produtividade e qualidade;"
   ]
  },
  {
   "cell_type": "markdown",
   "metadata": {},
   "source": []
  }
 ]
}