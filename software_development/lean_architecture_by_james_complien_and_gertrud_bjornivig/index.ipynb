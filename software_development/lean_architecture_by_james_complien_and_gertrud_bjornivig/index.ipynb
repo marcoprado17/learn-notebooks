{
 "metadata": {
  "language_info": {
   "codemirror_mode": {
    "name": "ipython",
    "version": 3
   },
   "file_extension": ".py",
   "mimetype": "text/x-python",
   "name": "python",
   "nbconvert_exporter": "python",
   "pygments_lexer": "ipython3",
   "version": "3.7.6-final"
  },
  "orig_nbformat": 2,
  "kernelspec": {
   "name": "python3",
   "display_name": "Python 3"
  }
 },
 "nbformat": 4,
 "nbformat_minor": 2,
 "cells": [
  {
   "cell_type": "markdown",
   "metadata": {
    "tags": []
   },
   "source": [
    "# Lean Architecture: For Agile Software Development by James Coplien and Gertrud Bjornivig"
   ]
  },
  {
   "cell_type": "markdown",
   "metadata": {},
   "source": [
    "## Introduction\n",
    "\n",
    "Esse capítulo foca em explicar a filosofia e a forma como o autor irá expor as ideias nos capítulos seguintes.\n",
    "\n",
    "### The touchstones: Lean and Agile\n",
    "\n",
    "* Lean e Agile estão em voga atualmente, lean remete ao minimalismo (mas não somente ao minimalismo). Lean possui raizes no Japão, mais especificamente na montadora Toyota;\n",
    "* No Lean, o minimalismo é consequência de uma abordagem na qual a visão de criação de valor PARA TODOS OS STAKEHOLDERS (empregado, chefe, cliente, parceiro etc) permeia a todo tempo, em todas as dimensões, Lean não é apenas suas particas (just in time, end to end). No manifesto Agile, a enfase é mais o cliente;\n",
    "* Lean e agile não sobre hard work ou smart work, mas sim sobre FOCO e DISCIPLINA no cumprimento de ideis simples;\n",
    "* O livro foca em aplicar o estilo Lean e Agile para o a arquitetura de software;\n",
    "* Arquitetura de software por ser definida como os fundamentos que guiam a organização dos componentes do sistema, a relações destes, o ambiente e os principios que guiam seu desenvolmento e evolução;\n",
    "* As práticas do Lean são importantes, mas no seu core está a participação de todos do time, desde o início do projeto. Isso pode ser meio caótico no inicio, mas segundo o autor vale a pena;\n",
    "* Arquitetura pode paracer dificil, mas não é, basta reunir os especialistas em uma sala. Individuos vem primeiro, interações em segundo plano;\n",
    "* O Lean contribui com o planejamento com TODOS os stakeholders com foco na criação de valor e o Agile contribui para a cultura do feedback;\n",
    "* Como o Lean foca na criação de valor para o cliente, ele contribui para a redução de software que não entrega valor para o cliente. 70% do software contruído não é utilizado pelo cliente;\n",
    "* Uma Arquitetura Lean é capaz de produzir código que entregue valor para o cliente e permitir adições futuras sem q para isso tenhamos que criar código de ante-mão. Foca no que é importante agora, sem prejudicar o longo termo;\n",
    "* Um arquitetura Lean permite que os principios agéis ocorram com sucesso, é a base para o desenvolvimento ágil, bem sucedido:\n",
    "    * All hands on desk => Individuals and interactions over processes and tools;\n",
    "    * Value stream without many processes and tools => Customer engagement;\n",
    "    * Software that reflect the end user mental model => Working software;\n",
    "    * Software that captures domain form => Software that can respond to change.\n",
    "\n",
    "\n",
    "\n"
   ]
  },
  {
   "cell_type": "code",
   "execution_count": null,
   "metadata": {},
   "outputs": [],
   "source": []
  }
 ]
}