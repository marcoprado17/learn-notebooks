{
 "metadata": {
  "language_info": {
   "codemirror_mode": {
    "name": "ipython",
    "version": 3
   },
   "file_extension": ".py",
   "mimetype": "text/x-python",
   "name": "python",
   "nbconvert_exporter": "python",
   "pygments_lexer": "ipython3",
   "version": 3
  },
  "orig_nbformat": 2
 },
 "nbformat": 4,
 "nbformat_minor": 2,
 "cells": [
  {
   "source": [
    "# 2. Agile Production in a Nutshell\n",
    "\n",
    "Nesse capítulo o autor faz um breve resumo dos proximos capitulos do livro"
   ],
   "cell_type": "markdown",
   "metadata": {}
  },
  {
   "source": [
    "## 2.1 Engage the Stakeholders\n",
    "\n",
    "* O segredo do Lean é todo mundo, juntos, desde o começo.\n",
    "* Para tanto é necessário reunir os Stakeholders do sistema, que podem estar mais relacionados ao que o sistema é ou ao que o sistema faz:\n",
    "\n",
    "<div>\n",
    "<img src=\"./assets/what_system_is_x_what_system_does.png\" width=\"250\"/>\n",
    "</div>"
   ],
   "cell_type": "markdown",
   "metadata": {}
  },
  {
   "source": [
    "## 2.2 Define the Problem\n",
    "\n"
   ],
   "cell_type": "markdown",
   "metadata": {}
  }
 ]
}