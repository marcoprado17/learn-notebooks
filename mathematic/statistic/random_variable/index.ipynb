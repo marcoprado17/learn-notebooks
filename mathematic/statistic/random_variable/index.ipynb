{
 "cells": [
  {
   "cell_type": "markdown",
   "source": [
    "# Variáveis Aleatórias\n",
    "\n",
    "## Definição\n",
    "\n",
    "Variáveis aleatórias representam o resultado de\n",
    "um processo aleatório.\n",
    "\n",
    "Podem ser continuas ou discretas. É continua se assume qualquer valor\n",
    "em determinado intervalo e discreta caso contrário. Nos exemplos abaixo,\n",
    "$X, Y_i \\text{ e } Z$ são variáveis aleatórias discretas e $W$ é uma variável\n",
    "aleatoria continua.\n",
    "\n",
    "## Exemplos\n",
    "\n",
    "### Lançamento de moeda\n",
    "$\n",
    "X=\n",
    "\\begin{cases}\n",
    "1, & \\text{se coroa} \\\\\n",
    "0, & \\text{se cara} \\\\\n",
    "\\end{cases}\n",
    "$\n",
    "\n",
    "### Lançamento de dado\n",
    "\n",
    "$\n",
    "Y_i= \\text{Resultado do i-éssimo lançamento de um dado} \\\\\\\n",
    "Z=\\sum_{n=1}^{n=6} Y_n\n",
    "$\n",
    "\n",
    "### Massa de um animal\n",
    "\n",
    "$\n",
    "W= \\text{Massa de uma animal escolhido aleatoriamente do zoológico de SP}\n",
    "$\n",
    "\n",
    "## Observações\n",
    "\n",
    "* Utilizada em cálculos de probabilidade.\n",
    "* Simplifica notações matemáticas. Ao invés de dizermos\n",
    "P(\"Soma dos dados após 6 lançamentos\" > 30), dizemos P(Z > 30)."
   ],
   "metadata": {
    "collapsed": false
   }
  }
 ],
 "metadata": {
  "kernelspec": {
   "display_name": "${KERNEL_SPEC_DISPLAY_NAME}",
   "language": "${KERNEL_SPEC_LANGUAGE}",
   "name": "${KERNEL_SPEC_NAME}"
  },
  "language_info": {
   "codemirror_mode": {
    "name": "ipython",
    "version": 2
   },
   "file_extension": ".py",
   "mimetype": "text/x-python",
   "name": "python",
   "nbconvert_exporter": "python",
   "pygments_lexer": "ipython2",
   "version": "2.7.6"
  }
 },
 "nbformat": 4,
 "nbformat_minor": 0
}